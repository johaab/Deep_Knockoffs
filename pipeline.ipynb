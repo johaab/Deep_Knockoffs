{
 "cells": [
  {
   "cell_type": "markdown",
   "metadata": {},
   "source": [
    "# Application of Deep Knockoffs for Functional Magnetic Resonance Imaging to Generate Surrogate Data"
   ]
  },
  {
   "cell_type": "markdown",
   "metadata": {},
   "source": [
    "This notebook describes the pipeline to follow to build Knockoffs from fMRI images. These knockoffs generate surrogate data that is used in non-parametric tests to obtain a Statistical Parametric Map (SPM) of the brain.\n",
    "\n",
    "First of all, some things to consider:\n",
    "* fMRI images data set we use in this work was made available by the Medical Image Processing Laboratory (MIPLAB) \n",
    "* The Knockoff library can be found at https://github.com/msesia/deepknockoffs.git\n",
    "\n",
    "\n",
    "## Structure\n",
    "The process is divided into 4 main parts, which consist of:\n",
    "#### 1. Performing the **General Linear Model (GLM)** on the data\n",
    "This is the classical method to obtain the SPM, which returns the fitted beta values for $$ y = X\\beta$$ where y is the fMRI timecourse and X is the design matrix of the experiment.\n",
    "\n",
    "\n",
    "#### 2. Generating Knockoffs\n",
    "Given the data, the algorithm will build a machine to generate surrogate timecourses. \n",
    "There are three methods:\n",
    "* Gaussian Knockoffs\n",
    "* Low Rank Knockoffs\n",
    "* Deep Knockoffs\n",
    "    \n",
    "    \n",
    "#### 3. Performing **Non-Parametric Tests**\n",
    "The GLM is applied to the generated surrogate data to get the beta values and these are used to threshold the true betas using Non-Parametric Tests, which can be:\n",
    "* Uncorrected Non-Parametric Test\n",
    "* Corrected Non-Parametric Test\n",
    "    \n",
    "#### 4. Visualizing the results\n",
    "* Brain plot (Matlab)\n",
    "* Confusion matrix\n",
    "\n",
    "\n"
   ]
  },
  {
   "cell_type": "code",
   "execution_count": 1,
   "metadata": {
    "pycharm": {
     "name": "#%%\n"
    }
   },
   "outputs": [],
   "source": [
    "import matplotlib\n",
    "import matplotlib.pyplot as plt\n",
    "import pandas as pd\n",
    "import scipy\n",
    "import seaborn as sns\n",
    "matplotlib.rcParams['figure.figsize'] = (12.0, 6.0)\n",
    "\n",
    "from implementation import glm, knockoff_class, params\n",
    "from implementation.load import load_pickle, load_fmri\n",
    "from implementation.utils import KNOCK_DIR, compare_diagnostics"
   ]
  },
  {
   "cell_type": "markdown",
   "metadata": {},
   "source": [
    "## 1. GLM"
   ]
  },
  {
   "cell_type": "code",
   "execution_count": null,
   "metadata": {
    "pycharm": {
     "name": "#%%\n"
    }
   },
   "outputs": [
    {
     "name": "stdout",
     "output_type": "stream",
     "text": [
      "============================== \n",
      " MOTOR \n",
      "==============================\n",
      "Loading data for task MOTOR...\n",
      "Loaded Data - Shape: (100, 379, 284)\n",
      "Loaded Task Paradigms - Shape: (100, 284)\n",
      "Computing GLM for task MOTOR...\n",
      "Separating conditions...\n",
      "Done!\n",
      "Convolving...\n",
      "Done!\n",
      "Fitting GLM for 100 subjects and 379 regions...\n",
      "Done!\n",
      "Saving activations and beta values for task MOTOR...\n",
      "============================== \n",
      " GAMBLING \n",
      "==============================\n",
      "Loading data for task GAMBLING...\n",
      "Loaded Data - Shape: (100, 379, 253)\n",
      "Loaded Task Paradigms - Shape: (100, 253)\n",
      "Computing GLM for task GAMBLING...\n",
      "Separating conditions...\n",
      "Done!\n",
      "Convolving...\n",
      "Done!\n",
      "Fitting GLM for 100 subjects and 379 regions...\n",
      "Done!\n",
      "Saving activations and beta values for task GAMBLING...\n",
      "============================== \n",
      " RELATIONAL \n",
      "==============================\n",
      "Loading data for task RELATIONAL...\n",
      "Loaded Data - Shape: (100, 379, 232)\n",
      "Loaded Task Paradigms - Shape: (100, 232)\n",
      "Computing GLM for task RELATIONAL...\n",
      "Separating conditions...\n",
      "Done!\n",
      "Convolving...\n",
      "Done!\n",
      "Fitting GLM for 100 subjects and 379 regions...\n",
      "Done!\n",
      "Saving activations and beta values for task RELATIONAL...\n",
      "============================== \n",
      " SOCIAL \n",
      "==============================\n",
      "Loading data for task SOCIAL...\n",
      "Loaded Data - Shape: (100, 379, 274)\n",
      "Loaded Task Paradigms - Shape: (100, 274)\n",
      "Computing GLM for task SOCIAL...\n",
      "Separating conditions...\n",
      "Done!\n",
      "Convolving...\n",
      "Done!\n",
      "Fitting GLM for 100 subjects and 379 regions...\n"
     ]
    }
   ],
   "source": [
    "# running the GLM on all tasks\n",
    "glm.run()"
   ]
  },
  {
   "cell_type": "markdown",
   "metadata": {},
   "source": [
    "## 2. Building Knockoffs"
   ]
  },
  {
   "cell_type": "code",
   "execution_count": null,
   "metadata": {
    "pycharm": {
     "name": "#%%\n"
    }
   },
   "outputs": [],
   "source": [
    "# selecting the same task and subject as in the report\n",
    "task = 'MOTOR'\n",
    "subject = 1\n",
    "\n",
    "# loading all the data\n",
    "fmri_data = load_fmri(task=task)"
   ]
  },
  {
   "cell_type": "markdown",
   "metadata": {},
   "source": [
    "### a) Gaussian Knockoffs"
   ]
  },
  {
   "cell_type": "code",
   "execution_count": null,
   "metadata": {
    "pycharm": {
     "is_executing": true,
     "name": "#%%\n"
    }
   },
   "outputs": [],
   "source": [
    "gaussian = knockoff_class.GaussianKnockOff(task, subject)  \n",
    "\n",
    "gaussian.load_fmri()\n",
    "\n",
    "# Pre-processing the data: clustering to decrease correlations\n",
    "gaussian.pre_process(max_corr=.3)\n",
    "\n",
    "# Training the machine to build second-order knockoffs\n",
    "_ = gaussian.fit() \n",
    "\n",
    "# Plotting diagnostics to show the performance of the knockoffs\n",
    "res_gaus = gaussian.diagnostics()"
   ]
  },
  {
   "cell_type": "code",
   "execution_count": null,
   "metadata": {
    "pycharm": {
     "is_executing": true,
     "name": "#%%\n"
    }
   },
   "outputs": [],
   "source": [
    "# Building the knockoffs: the resulting data matrix will be of shape (real+knockoff, timepoints, regions),\n",
    "# with (0,:,:) containing the real beta value and (1:, :, :) containing the knockoffs\n",
    "data_gaussian = gaussian.transform()\n",
    "print(data_gaussian.shape)"
   ]
  },
  {
   "cell_type": "markdown",
   "metadata": {},
   "source": [
    "### b) Low Rank Knockoffs"
   ]
  },
  {
   "cell_type": "code",
   "execution_count": null,
   "metadata": {
    "pycharm": {
     "is_executing": true,
     "name": "#%%\n"
    }
   },
   "outputs": [],
   "source": [
    "lowrank = knockoff_class.LowRankKnockOff(task, subject)  \n",
    "\n",
    "lowrank.load_fmri()\n",
    "\n",
    "# Training the machine to build low-ranked knockoffs\n",
    "_ = lowrank.fit(rank=120) \n",
    "\n",
    "# Plotting diagnostics to show the performance of the knockoffs\n",
    "res_lowrank = lowrank.diagnostics()"
   ]
  },
  {
   "cell_type": "code",
   "execution_count": null,
   "metadata": {
    "pycharm": {
     "is_executing": true,
     "name": "#%%\n"
    }
   },
   "outputs": [],
   "source": [
    "# Building the knockoffs: the resulting data matrix will be of shape (real+knockoff, timepoints, regions),\n",
    "# with (0,:,:) containing the real beta value and (1:, :, :) containing the knockoffs\n",
    "data_lowrank = lowrank.transform()\n",
    "print(data_lowrank.shape)"
   ]
  },
  {
   "cell_type": "markdown",
   "metadata": {},
   "source": [
    "### c) Deep Knockoffs"
   ]
  },
  {
   "cell_type": "markdown",
   "metadata": {},
   "source": [
    "We can load a previously trained machine or train a new one.\n",
    "\n",
    "* **Loading a machine**"
   ]
  },
  {
   "cell_type": "code",
   "execution_count": null,
   "metadata": {
    "pycharm": {
     "is_executing": true
    },
    "scrolled": false
   },
   "outputs": [],
   "source": [
    "# We can load a previously trained machine\n",
    "deepko = knockoff_class.DeepKnockOff(task, subject)\n",
    "deepko.pre_process(max_corr=.3, save=True)\n",
    "\n",
    "# Loading previously trained machine\n",
    "_, x_train = load_pickle(KNOCK_DIR, f'GaussianKO_tfMRI_t{task}_s{subject}_c0.3.pickle')\n",
    "groups, _ = load_pickle(KNOCK_DIR, f'GaussianKO_mapping_t{task}_s{subject}_c0.3.pickle')\n",
    "params = load_pickle(KNOCK_DIR, f'DeepKO_tMOTOR_s{subject}_params')\n",
    "\n",
    "deepko.load_x(x_train)\n",
    "deepko.load_params(params)\n",
    "deepko.load_machine()\n",
    "\n",
    "res_deepko = deepko.diagnostics()"
   ]
  },
  {
   "cell_type": "code",
   "execution_count": null,
   "metadata": {
    "pycharm": {
     "is_executing": true
    }
   },
   "outputs": [],
   "source": [
    "data_deepko = deepko.transform(groups=groups)\n",
    "\n",
    "deepko_betas = deepko.statistic(data_deepko, save=True)\n",
    "uncorrected_betas_deepko, corrected_betas_deepko = deepko.threshold(deepko_betas, save=True)"
   ]
  },
  {
   "cell_type": "markdown",
   "metadata": {},
   "source": [
    "* **Training a new machine (Takes several hours 🥵🥵🥵)**"
   ]
  },
  {
   "cell_type": "code",
   "execution_count": null,
   "metadata": {
    "pycharm": {
     "is_executing": true,
     "name": "#%%\n"
    }
   },
   "outputs": [],
   "source": [
    "# Or train a new knockoff machine\n",
    "deepko = knockoff_class.DeepKnockOff(task, subject)  \n",
    "\n",
    "# Pre-processing the data: clustering to avoid correlations\n",
    "deepko.pre_process(max_corr=.3, save=True)\n",
    "\n",
    "# Training the machine to build second-order knockoffs. The parameters can be changed at params.py\n",
    "_ = deepko.fit() \n",
    "\n",
    "# Plotting diagnostics to show the performance of the knockoffs\n",
    "res_deepko = deepko.diagnostics()"
   ]
  },
  {
   "cell_type": "code",
   "execution_count": null,
   "metadata": {
    "pycharm": {
     "is_executing": true,
     "name": "#%%\n"
    }
   },
   "outputs": [],
   "source": [
    "# generating deep knockoffs\n",
    "data_deepko = deepko.transform(groups=groups)\n",
    "# calculating the GLM betas for the knockoffs\n",
    "deepko_betas = deepko.statistic(data_deepko, save=True)\n",
    "# executing the non-parametric test\n",
    "uncorrected_betas_deepko, corrected_betas_deepko = deepko.threshold(deepko_betas, save=True)"
   ]
  },
  {
   "cell_type": "code",
   "execution_count": null,
   "metadata": {
    "pycharm": {
     "is_executing": true,
     "name": "#%%\n"
    }
   },
   "outputs": [],
   "source": [
    "# Building the knockoffs: the resulting data matrix will be of shape (real+knockoff, timepoints, regions),\n",
    "# with (0,:,:) containing the real beta value and (1:, :, :) containing the knockoffs\n",
    "deepko.transform()\n",
    "print(data_deepko.shape)"
   ]
  },
  {
   "cell_type": "markdown",
   "metadata": {},
   "source": [
    "## Comparing the knockoff diagnostics"
   ]
  },
  {
   "cell_type": "code",
   "execution_count": null,
   "metadata": {
    "pycharm": {
     "is_executing": true
    }
   },
   "outputs": [],
   "source": [
    "# comparing the diagnostics for the knockoffs\n",
    "res_total = pd.concat([res_gaus, res_lowrank, res_deepko], ignore_index=True, sort=False)\n",
    "compare_diagnostics(res_total)"
   ]
  },
  {
   "cell_type": "markdown",
   "metadata": {},
   "source": [
    "## 3. Non-Parametric tests"
   ]
  },
  {
   "cell_type": "code",
   "execution_count": null,
   "metadata": {
    "pycharm": {
     "is_executing": true,
     "name": "#%%\n"
    }
   },
   "outputs": [],
   "source": [
    "# Computing the beta values of the knockoffs\n",
    "gaussian_betas = gaussian.statistic(data_gaussian, save=True)\n",
    "lowrank_betas = lowrank.statistic(data_lowrank, save=True)\n",
    "deepko_betas = deepko.statistic(data_deepko, save=True)"
   ]
  },
  {
   "cell_type": "code",
   "execution_count": null,
   "metadata": {
    "pycharm": {
     "is_executing": true,
     "name": "#%%\n"
    }
   },
   "outputs": [],
   "source": [
    "# Performing corrected and uncorrected Non-Parametric tests to threshold\n",
    "uncorrected_betas_gaussian, corrected_betas_gaussian = gaussian.threshold(gaussian_betas, save=True)\n",
    "uncorrected_betas_lowrank, corrected_betas_lowrank = lowrank.threshold(lowrank_betas, save=True)\n",
    "uncorrected_betas_deepko, corrected_betas_deepko = deepko.threshold(deepko_betas, save=True)"
   ]
  },
  {
   "cell_type": "markdown",
   "metadata": {},
   "source": [
    "## 4. Visualizing our results\n",
    "The results can either be visualized in Matlab using the script `PlotGraph/our_plots.m`, which will show a brain plot with the activation regions; or by a confusion matrix, which gives a comparison on the active regions of the brain for each method compared to the GLM."
   ]
  },
  {
   "cell_type": "code",
   "execution_count": null,
   "metadata": {
    "pycharm": {
     "is_executing": true
    }
   },
   "outputs": [],
   "source": [
    "# \"true\" betas computed with GLM\n",
    "TRUE_BETAS = f'./data/output/beta/GLM_betas_{task}.mat'\n",
    "# \"true\" controlled betas computed with GLM\n",
    "TRUE_BETAS_CONTROLLED = f'./data/output/beta/GLM_controlled_betas_{task}.mat'\n",
    "# \"true\" uncontrolled betas computed with GLM\n",
    "TRUE_BETAS_UNCONTROLLED = f'./data/output/beta/GLM_uncontrolled_betas_{task}.mat'\n",
    "\n",
    "true_betas = scipy.io.loadmat(TRUE_BETAS)['beta'][subject, :, :]  \n",
    "true_betas_controlled = scipy.io.loadmat(TRUE_BETAS_CONTROLLED)['beta'][subject, :, :]  \n",
    "true_betas_uncontrolled = scipy.io.loadmat(TRUE_BETAS_UNCONTROLLED)['beta'][subject, :, :] "
   ]
  },
  {
   "cell_type": "code",
   "execution_count": null,
   "metadata": {
    "pycharm": {
     "is_executing": true
    }
   },
   "outputs": [],
   "source": [
    "def plot_confusion_matrix(true, methods, true_label, methods_labels):\n",
    "    \"\"\"\n",
    "    Plots the confusion matrices given in the report.\n",
    "    true: \"true\" GLM labels\n",
    "    methods: betas to compare to the \"true\" GLM labels\n",
    "    true_labels: label for the \"true\" beta values\n",
    "    methods_labels: labels for the compared beta values    \n",
    "    \"\"\"\n",
    "    true = [0 if x == 0 else 1 for x in true.ravel()]\n",
    "\n",
    "    fig, axes = plt.subplots(1, len(methods), figsize=(15,3))\n",
    "    fig.suptitle('Comparison')\n",
    "    \n",
    "    for idx, method in enumerate(methods):\n",
    "        method = [0 if x == 0 else 1 for x in method.ravel()]\n",
    "        data = {true_label:    true,\n",
    "        methods_labels[idx]: method\n",
    "        }\n",
    "\n",
    "        df = pd.DataFrame(data, columns=[true_label, methods_labels[idx]])\n",
    "\n",
    "        confusion_matrix = pd.crosstab(df[true_label], df[methods_labels[idx]], rownames=[true_label], \n",
    "                                       colnames=[methods_labels[idx]], margins=False)\n",
    "    \n",
    "        sns.heatmap(confusion_matrix, ax=axes[idx], annot=True, cmap = 'BuPu',fmt='g')\n",
    "    \n",
    "    plt.show()\n",
    "\n",
    "true = true_betas_controlled\n",
    "methods = [corrected_betas_gaussian, corrected_betas_lowrank, corrected_betas_deepko]\n",
    "methods_labels = ['Gaussian', 'Low Rank', 'Deep Knockoffs']\n",
    "true_label = 'GLM'\n",
    "plot_confusion_matrix(true, methods, true_label, methods_labels)    "
   ]
  },
  {
   "cell_type": "markdown",
   "metadata": {},
   "source": [
    "A sample brain plot:\n",
    "<img src=\"data/output/img/DeepKO_corrected_betas_tMOTOR_s1_cond2.png\">"
   ]
  },
  {
   "cell_type": "code",
   "execution_count": null,
   "metadata": {
    "pycharm": {
     "is_executing": true
    }
   },
   "outputs": [],
   "source": []
  }
 ],
 "metadata": {
  "kernelspec": {
   "display_name": "Python 3",
   "language": "python",
   "name": "python3"
  },
  "language_info": {
   "codemirror_mode": {
    "name": "ipython",
    "version": 3
   },
   "file_extension": ".py",
   "mimetype": "text/x-python",
   "name": "python",
   "nbconvert_exporter": "python",
   "pygments_lexer": "ipython3",
   "version": "3.8.5"
  }
 },
 "nbformat": 4,
 "nbformat_minor": 1
}
