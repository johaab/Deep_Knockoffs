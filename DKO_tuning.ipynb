{
 "cells": [
  {
   "cell_type": "markdown",
   "metadata": {
    "collapsed": true,
    "pycharm": {
     "name": "#%% md\n"
    }
   },
   "source": [
    "# Deep Knockoff tuning\n",
    "Problem: surrogate distribution is too narrow and doesn't overlap at all with empirical values\n",
    "\n",
    "Goal: fine tune the DKO machine to generate a distribution of surrogates to be closer to the empirical observations, allowing for a fine selection of significant features\n",
    "\n"
   ]
  },
  {
   "cell_type": "code",
   "execution_count": null,
   "metadata": {},
   "outputs": [],
   "source": [
    "import matplotlib\n",
    "import matplotlib.pyplot as plt\n",
    "import pandas as pd\n",
    "import scipy\n",
    "import seaborn as sns\n",
    "matplotlib.rcParams['figure.figsize'] = (12.0, 6.0)\n",
    "\n",
    "from implementation import glm, knockoff_class, params\n",
    "from implementation.load import load_pickle, load_fmri\n",
    "from implementation.utils import KNOCK_DIR, compare_diagnostics"
   ]
  },
  {
   "cell_type": "code",
   "execution_count": null,
   "metadata": {},
   "outputs": [],
   "source": [
    "# selecting the same task and subject as in the report\n",
    "task = 'MOTOR'\n",
    "subject = 1\n",
    "\n",
    "# loading all the data\n",
    "fmri_data = load_fmri(task=task)"
   ]
  },
  {
   "cell_type": "code",
   "execution_count": null,
   "metadata": {},
   "outputs": [],
   "source": [
    "# train a new knockoff machine\n",
    "deepko = knockoff_class.DeepKnockOff(task, subject)  \n",
    "\n",
    "# Pre-processing the data: clustering to avoid correlations\n",
    "deepko.pre_process(max_corr=.3, save=True)\n",
    "\n",
    "# Training the machine to build higher-order knockoffs. The parameters can be changed at params.py\n",
    "_ = deepko.fit() \n",
    "\n",
    "# Plotting diagnostics to show the performance of the knockoffs\n",
    "res_deepko = deepko.diagnostics()"
   ]
  },
  {
   "cell_type": "code",
   "execution_count": null,
   "metadata": {},
   "outputs": [],
   "source": [
    "# generating deep knockoffs\n",
    "data_deepko = deepko.transform(groups=groups)\n",
    "\n",
    "# calculating the GLM betas for the knockoffs\n",
    "deepko_betas = deepko.statistic(data_deepko, save=True)\n",
    "\n",
    "# executing the non-parametric test\n",
    "uncorrected_betas_deepko, corrected_betas_deepko = deepko.threshold(deepko_betas, save=True)"
   ]
  },
  {
   "cell_type": "code",
   "execution_count": null,
   "metadata": {},
   "outputs": [],
   "source": [
    "# histogram\n",
    "\n",
    "# print(plt.style.available) # check different available styles\n",
    "plt.style.use(\"seaborn-dark\")\n",
    "\n",
    "plt.hist(corrected_betas_deepko)\n",
    "\n",
    "plt.xlab(\"Value\")\n",
    "plt.ylab(\"Count\")\n",
    "plt.title(\"Surrogate distribution\")\n",
    "\n",
    "plt.show()"
   ]
  }
 ],
 "metadata": {
  "kernelspec": {
   "display_name": "Python 3",
   "language": "python",
   "name": "python3"
  },
  "language_info": {
   "codemirror_mode": {
    "name": "ipython",
    "version": 3
   },
   "file_extension": ".py",
   "mimetype": "text/x-python",
   "name": "python",
   "nbconvert_exporter": "python",
   "pygments_lexer": "ipython3",
   "version": "3.8.5"
  }
 },
 "nbformat": 4,
 "nbformat_minor": 1
}